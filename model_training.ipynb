{
 "cells": [
  {
   "cell_type": "markdown",
   "metadata": {},
   "source": [
    "# Machine Learning: Web Classification\n",
    "During my internship at Jewel Paymentech, I undertook an independent data science project to build a machine learning model that performs multi-class classfication of websites based on its text data.\n",
    "\n",
    "## Project Objective\n",
    "The objective of this project is to assist our clients in identifying various categories of potentially illegal or fraudulent website content such as pornography, gambling and multi-level marketing (based on the website's text content).\n",
    "\n",
    "## Machine Learning Pipeline\n",
    "This is an overview of a typical machine learning pipeline. To prepare my data for model training, data cleaning and text preprocessing will be performed to ensure the data is of 'good quality'.\n",
    "\n",
    "<img src=\"machine_learning_pipeline.png\">"
   ]
  },
  {
   "cell_type": "code",
   "execution_count": 1,
   "metadata": {},
   "outputs": [],
   "source": [
    "import io\n",
    "import os\n",
    "import re\n",
    "import pickle\n",
    "import numpy as np\n",
    "import pandas as pd\n",
    "import matplotlib.pyplot as plt\n",
    "import seaborn as sns\n",
    "from time import time\n",
    "from collections import Counter\n",
    "\n",
    "from bs4 import BeautifulSoup\n",
    "from nltk.tokenize import RegexpTokenizer\n",
    "from nltk.corpus import wordnet\n",
    "from nltk.stem import WordNetLemmatizer\n",
    "\n",
    "# Sklearn Libraries\n",
    "from sklearn.feature_extraction.text import TfidfVectorizer\n",
    "from sklearn.model_selection import train_test_split, StratifiedKFold\n",
    "from sklearn.multiclass import OneVsRestClassifier\n",
    "from sklearn.naive_bayes import MultinomialNB\n",
    "from sklearn.svm import LinearSVC, SVC\n",
    "from sklearn.pipeline import Pipeline\n",
    "from sklearn.externals import joblib\n",
    "from sklearn.metrics import classification_report, roc_auc_score\n",
    "from sklearn.calibration import CalibratedClassifierCV\n",
    "\n",
    "# Imbalanced-Learn Libraries\n",
    "from imblearn.pipeline import Pipeline as imbPipeline\n",
    "from imblearn.over_sampling import RandomOverSampler, SMOTE"
   ]
  },
  {
   "cell_type": "markdown",
   "metadata": {},
   "source": [
    "### Read Text Data from File Directories"
   ]
  },
  {
   "cell_type": "code",
   "execution_count": 3,
   "metadata": {
    "collapsed": true
   },
   "outputs": [],
   "source": [
    "PORN = 'Porn'\n",
    "PROSTITUTION = 'Prostitution'\n",
    "WEAPON = 'Weapon'\n",
    "TMS = 'Tms'\n",
    "TRIAL = 'Trial'\n",
    "PENNY = 'Penny'\n",
    "COUNTERFEIT = 'Counterfeit'\n",
    "CYBERLOCKER = 'Cyberlocker'\n",
    "MLM = 'Mlm'\n",
    "PHARMA = 'Pharma'\n",
    "SMOKE = 'Smoke'\n",
    "SPAM = 'Spam'\n",
    "CASINO = 'Casino'\n",
    "ALCOHOL = 'Alcohol'\n",
    "NORMAL = 'Normal'\n",
    "\n",
    "path = '../' + dataset_filepath\n",
    "\n",
    "SOURCES = [\n",
    "    (path + '/PORN',         PORN),\n",
    "    (path + '/PROSTITUTION', PROSTITUTION),\n",
    "    (path + '/WEAPON',       WEAPON),\n",
    "    (path + '/TMS',          TMS),\n",
    "    (path + '/TRIAL',        TRIAL),\n",
    "    (path + '/PENNY',        PENNY),\n",
    "    (path + '/COUNTERFEIT',  COUNTERFEIT),\n",
    "    (path + '/CYBERLOCKER',  CYBERLOCKER),\n",
    "    (path + '/MLM',          MLM),\n",
    "    (path + '/PHARMA',       PHARMA),\n",
    "    (path + '/SMOKE',        SMOKE),\n",
    "    (path + '/SPAM',         SPAM),\n",
    "    (path + '/CASINO',       CASINO),\n",
    "    (path + '/ALCOHOL',      ALCOHOL),\n",
    "    (path + '/NORMAL',       NORMAL)\n",
    "]\n",
    "\n",
    "NEWLINE = '\\n'\n",
    "SKIP_FILES = {'cmds'}\n",
    "\n",
    "def read_files(path):\n",
    "    for root, dir_names, file_names in os.walk(path):\n",
    "        for path in dir_names:\n",
    "            read_files(os.path.join(root, path))\n",
    "        for file_name in file_names:\n",
    "            if file_name not in SKIP_FILES:\n",
    "                file_path = os.path.join(root, file_name)\n",
    "                if os.path.isfile(file_path):                \n",
    "                    lines = []\n",
    "                    # Use io.open instead for Python 2.0, open()takes no encoding argument. The third argument is the buffering option instead.\n",
    "                    f = io.open(file_path, encoding = 'latin-1')\n",
    "                    for line in f:\n",
    "                        lines.append(line)\n",
    "                    f.close()\n",
    "                    content = NEWLINE.join(lines)\n",
    "                    yield file_path, content\n",
    "\n",
    "def build_data_frame(path, classification):\n",
    "    rows = []\n",
    "    index = []\n",
    "    for file_name, text in read_files(path):\n",
    "        rows.append({'text': text, 'class': classification})\n",
    "        index.append(file_name[38:])\n",
    "    data_frame = DataFrame(rows, index=index)\n",
    "    return data_frame\n",
    "\n",
    "\n",
    "d = ({'text':[], 'class':[]})\n",
    "\n",
    "df = DataFrame(data = d)\n",
    "\n",
    "for path, classification in SOURCES:\n",
    "    df = df.append(build_data_frame(path, classification))\n",
    "df = df.reindex(np.random.permutation(df.index))"
   ]
  },
  {
   "cell_type": "code",
   "execution_count": 13,
   "metadata": {},
   "outputs": [
    {
     "name": "stdout",
     "output_type": "stream",
     "text": [
      "<class 'pandas.core.frame.DataFrame'>\n",
      "Index: 7181 entries, dataset/balance_hotel_ovr_560sites/WEAPON/www.edbrown.com copy 2.txt to dataset/balance_hotel_ovr_560sites/WEAPON/www.aledge.com copy 3.txt\n",
      "Data columns (total 2 columns):\n",
      "class    7181 non-null object\n",
      "text     7181 non-null object\n",
      "dtypes: object(2)\n",
      "memory usage: 168.3+ KB\n"
     ]
    }
   ],
   "source": [
    "df.info()"
   ]
  },
  {
   "cell_type": "code",
   "execution_count": 14,
   "metadata": {},
   "outputs": [
    {
     "data": {
      "text/plain": [
       "2366"
      ]
     },
     "execution_count": 14,
     "metadata": {},
     "output_type": "execute_result"
    }
   ],
   "source": [
    "df['text'].nunique()"
   ]
  },
  {
   "cell_type": "code",
   "execution_count": 15,
   "metadata": {},
   "outputs": [
    {
     "name": "stdout",
     "output_type": "stream",
     "text": [
      "<class 'pandas.core.frame.DataFrame'>\n",
      "Index: 2366 entries, dataset/balance_hotel_ovr_560sites/WEAPON/www.edbrown.com copy 2.txt to dataset/balance_hotel_ovr_560sites/WEAPON/www.aledge.com copy 3.txt\n",
      "Data columns (total 2 columns):\n",
      "class    2366 non-null object\n",
      "text     2366 non-null object\n",
      "dtypes: object(2)\n",
      "memory usage: 55.5+ KB\n"
     ]
    }
   ],
   "source": [
    "new_df = df.drop_duplicates(subset='text')\n",
    "new_df.info()"
   ]
  },
  {
   "cell_type": "code",
   "execution_count": 16,
   "metadata": {},
   "outputs": [
    {
     "name": "stdout",
     "output_type": "stream",
     "text": [
      "class      15\n",
      "text     2366\n",
      "dtype: int64\n",
      "\n",
      "False\n"
     ]
    }
   ],
   "source": [
    "print(new_df.nunique())\n",
    "print()\n",
    "print(new_df.duplicated().any())"
   ]
  },
  {
   "cell_type": "markdown",
   "metadata": {},
   "source": [
    "### Class Distribution"
   ]
  },
  {
   "cell_type": "code",
   "execution_count": 8,
   "metadata": {},
   "outputs": [
    {
     "data": {
      "text/plain": [
       "Normal          570\n",
       "Porn            188\n",
       "Pharma          183\n",
       "Casino          180\n",
       "Alcohol         172\n",
       "Smoke           169\n",
       "Mlm             155\n",
       "Weapon          138\n",
       "Penny           136\n",
       "Spam            121\n",
       "Counterfeit     100\n",
       "Cyberlocker      85\n",
       "Prostitution     73\n",
       "Tms              63\n",
       "Trial            33\n",
       "Name: class, dtype: int64"
      ]
     },
     "execution_count": 8,
     "metadata": {},
     "output_type": "execute_result"
    }
   ],
   "source": [
    "new_df['class'].value_counts()"
   ]
  },
  {
   "cell_type": "code",
   "execution_count": 10,
   "metadata": {
    "scrolled": false
   },
   "outputs": [
    {
     "data": {
      "image/png": "[encoded data removed]",
      "text/plain": [
       "<Figure size 1152x432 with 1 Axes>"
      ]
     },
     "metadata": {
      "needs_background": "light"
     },
     "output_type": "display_data"
    }
   ],
   "source": [
    "# Plot Class Distribution\n",
    "plt.figure(figsize=(16,6))\n",
    "sns.countplot(new_df['class'])\n",
    "plt.show()"
   ]
  },
  {
   "cell_type": "markdown",
   "metadata": {},
   "source": [
    "### Clean Dataset\n",
    "\n",
    "Clean text to remove irrelevant text such as non-letters, whitespace, HTML tags, and stopwords. Stopwords are commonly used words such as 'a', 'am', 'as', etc."
   ]
  },
  {
   "cell_type": "code",
   "execution_count": 2,
   "metadata": {
    "collapsed": true
   },
   "outputs": [],
   "source": [
    "# text pre-processing for English sites only, other languages are not supported!\n",
    "def clean_text(raw_text, remove_stopwords=False):\n",
    "    # 1. remove HTML\n",
    "    # 2. remove non-letters\n",
    "    # 3. convert words to lower case\n",
    "    # 4. remove whitespace\n",
    "    # 5. chop sentences into words\n",
    "    # 6. optionally remove stop words (false by default)\n",
    "    # 7. return a long string of words\n",
    "\n",
    "    html_text = BeautifulSoup(raw_text, 'html.parser').get_text()\n",
    "    non_letters = re.sub('[^a-zA-Z]', ' ', html_text)\n",
    "    words = non_letters.lower()\n",
    "    words = ' '.join(words.split())\n",
    "    words = words.split()\n",
    "    if remove_stopwords:\n",
    "        # 7. return a long string of words\n",
    "        stops = set(stopwords.words('english'))\n",
    "        words = [w for w in words if not w in stops]\n",
    "    return words"
   ]
  },
  {
   "cell_type": "markdown",
   "metadata": {},
   "source": [
    "### Text Preprocessing\n",
    "\n",
    "Word lemmatization is a NLP technique used to transform a word into its root form, allowing grouping of similar words. E.g. the root form of 'walks', 'walked', 'walking' is equivalent to 'walk'."
   ]
  },
  {
   "cell_type": "code",
   "execution_count": 4,
   "metadata": {
    "collapsed": true
   },
   "outputs": [],
   "source": [
    "def word_lemmatization(text):\n",
    "    lemm = WordNetLemmatizer()\n",
    "    \n",
    "    def get_pos(word):\n",
    "        w_synsets = wordnet.synsets(word)\n",
    "\n",
    "        pos_counts = Counter()\n",
    "        pos_counts[\"n\"] = len(  [ item for item in w_synsets if item.pos()==\"n\"]  )\n",
    "        pos_counts[\"v\"] = len(  [ item for item in w_synsets if item.pos()==\"v\"]  )\n",
    "        pos_counts[\"a\"] = len(  [ item for item in w_synsets if item.pos()==\"a\"]  )\n",
    "        pos_counts[\"r\"] = len(  [ item for item in w_synsets if item.pos()==\"r\"]  )\n",
    "\n",
    "        most_common_pos_list = pos_counts.most_common(3)\n",
    "        return most_common_pos_list[0][0]\n",
    "    \n",
    "    return [lemm.lemmatize(word, pos=get_pos(word)) for word in nltk.word_tokenize(text)]"
   ]
  },
  {
   "cell_type": "code",
   "execution_count": 14,
   "metadata": {},
   "outputs": [],
   "source": [
    "# Read & Clean Dataset (in Pandas)\n",
    "df = pd.read_csv('dataset.csv')\n",
    "df = df.dropna()\n",
    "df['text'] = df['text'].apply(clean_text)\n",
    "df['text'] = df['text'].apply(lambda x: ' '.join(x))\n",
    "df['text'] = df['text'].apply(lambda x: ' '.join([w for w in x.split(' ') if len(w) > 1]))\n",
    "df['text'] = df['text'].apply(lambda x: ' '.join(word_lemmatization(x)))\n",
    "\n",
    "# Features\n",
    "X = df['text'].values\n",
    "# Response\n",
    "y = df['class'].values"
   ]
  },
  {
   "cell_type": "markdown",
   "metadata": {},
   "source": [
    "### Train-Test-Split\n",
    "\n",
    "Splitting the data into training and testing sets is essential for evaluating predictive model's performance. The training set will be used to train the model while the testing data is used to evaluate the model's performance."
   ]
  },
  {
   "cell_type": "code",
   "execution_count": 15,
   "metadata": {},
   "outputs": [],
   "source": [
    "# Train-Test-Split\n",
    "X_train, X_test, y_train, y_test = train_test_split(X, y, test_size=0.3, random_state=1, stratify=y, shuffle=True)"
   ]
  },
  {
   "cell_type": "markdown",
   "metadata": {},
   "source": [
    "### Machine Learning\n",
    "\n",
    "Term Frequency-Inverse Document Frequency (TF-IDF) is an information retrieval technique used to normalize the frequencies of word occurences by scaling down the impact of words that frequently appears. \n",
    "\n",
    "The machine learning algorithm I used are _Linear Support Vector Classifier_ and _Multinomial Naive Bayes_.\n",
    "\n",
    "### Hyperparameter Optimization\n",
    "Perform search on various hyperparameters to find the optimal set of parameters that enhances the model's performance."
   ]
  },
  {
   "cell_type": "markdown",
   "metadata": {},
   "source": [
    "#### Multinomial Naive Bayes (OneVsRest)"
   ]
  },
  {
   "cell_type": "code",
   "execution_count": 9,
   "metadata": {},
   "outputs": [
    {
     "name": "stdout",
     "output_type": "stream",
     "text": [
      "Performing grid search...\n",
      "Finish training in 4982.342403s\n",
      "Saved Model\n",
      "0.767975830816\n",
      "{'clf__estimator__alpha': 1, 'clf__estimator__fit_prior': True, 'tfidf__encoding': 'latin-1', 'tfidf__lowercase': True, 'tfidf__norm': 'l2', 'tfidf__smooth_idf': True, 'tfidf__stop_words': 'english', 'tfidf__sublinear_tf': False, 'tfidf__use_idf': True}\n",
      "Pipeline(memory=None,\n",
      "     steps=[('tfidf', TfidfVectorizer(analyzer='word', binary=False, decode_error='strict',\n",
      "        dtype=<class 'numpy.int64'>, encoding='latin-1', input='content',\n",
      "        lowercase=True, max_df=1.0, max_features=None, min_df=1,\n",
      "        ngram_range=(1, 1), norm='l2', preprocessor=None, smooth_idf=True,...Classifier(estimator=MultinomialNB(alpha=1, class_prior=None, fit_prior=True),\n",
      "          n_jobs=1))])\n"
     ]
    }
   ],
   "source": [
    "clf_pipeline = imbPipeline([\n",
    "    ('tfidf', TfidfVectorizer()),\n",
    "    ('oversample', SMOTE(random_state=2)),\n",
    "    ('clf', OneVsRestClassifier(MultinomialNB()))\n",
    "])\n",
    "\n",
    "parameters = {\n",
    "    'tfidf__encoding': ['latin-1'],\n",
    "    'tfidf__lowercase': [True],\n",
    "    'tfidf__stop_words': ['english'],\n",
    "    'tfidf__norm': [None, 'l1', 'l2'],\n",
    "    'tfidf__use_idf': [False, True],\n",
    "    'tfidf__smooth_idf': [False, True],\n",
    "    'tfidf__sublinear_tf': [False, True],\n",
    "    'clf__estimator__alpha': [1, 2, 3, 4, 5, 6, 7, 8, 9, 10],\n",
    "    'clf__estimator__fit_prior': [True, False]\n",
    "}\n",
    "\n",
    "print(\"Performing grid search...\")\n",
    "t0 = time()\n",
    "\n",
    "grid = GridSearchCV(clf_pipeline, parameters, n_jobs=-1, cv=5, scoring = 'accuracy')\n",
    "\n",
    "grid.fit(X_train, y_train)\n",
    "print(\"Finish training in %fs\" % (time() - t0))\n",
    "\n",
    "joblib.dump(grid, 'nb_model.pkl', protocol=-1)\n",
    "print('Saved Model')\n",
    "\n",
    "print(grid.best_score_)\n",
    "print(grid.best_params_)\n",
    "print(grid.best_estimator_)"
   ]
  },
  {
   "cell_type": "code",
   "execution_count": 16,
   "metadata": {
    "scrolled": true
   },
   "outputs": [
    {
     "name": "stdout",
     "output_type": "stream",
     "text": [
      "              precision    recall  f1-score   support\n",
      "\n",
      "     Alcohol       0.89      0.90      0.90        52\n",
      "      Casino       0.82      0.98      0.89        54\n",
      " Counterfeit       0.75      0.90      0.82        30\n",
      " Cyberlocker       0.80      0.80      0.80        25\n",
      "         Mlm       0.73      0.74      0.74        47\n",
      "      Normal       0.92      0.50      0.65       171\n",
      "       Penny       0.79      0.80      0.80        41\n",
      "      Pharma       0.87      0.96      0.91        55\n",
      "        Porn       0.78      0.82      0.80        56\n",
      "Prostitution       0.82      0.82      0.82        22\n",
      "       Smoke       0.98      0.88      0.93        51\n",
      "        Spam       0.43      0.97      0.60        36\n",
      "         Tms       0.59      0.84      0.70        19\n",
      "       Trial       0.07      0.10      0.08        10\n",
      "      Weapon       0.92      0.88      0.90        41\n",
      "\n",
      " avg / total       0.82      0.77      0.77       710\n",
      "\n"
     ]
    }
   ],
   "source": [
    "model = joblib.load('nb_model.pkl')\n",
    "\n",
    "predictions = model.predict(X_test)\n",
    "print(classification_report(y_test, predictions))"
   ]
  },
  {
   "cell_type": "markdown",
   "metadata": {},
   "source": [
    "#### SVM"
   ]
  },
  {
   "cell_type": "code",
   "execution_count": 8,
   "metadata": {},
   "outputs": [
    {
     "name": "stdout",
     "output_type": "stream",
     "text": [
      "Performing grid search...\n",
      "Finish training in 30291.770368s\n",
      "Saved Model\n",
      "0.865256797583\n",
      "{'svm__estimator__C': 1, 'svm__estimator__class_weight': None, 'tfidf__encoding': 'latin-1', 'tfidf__lowercase': True, 'tfidf__ngram_range': (1, 1), 'tfidf__norm': 'l2', 'tfidf__smooth_idf': False, 'tfidf__stop_words': 'english', 'tfidf__sublinear_tf': True, 'tfidf__use_idf': False}\n",
      "Pipeline(memory=None,\n",
      "    steps=[('tfidf', TfidfVectorizer(analyzer='word', binary=False, decode_error='strict',\n",
      "        dtype=<class 'numpy.int64'>, encoding='latin-1', input='content',\n",
      "        lowercase=True, max_df=1.0, max_features=None, min_df=1,\n",
      "        ngram_range=(1, 1), norm='l2', preprocessor=None, smooth_idf=False...lti_class='ovr', penalty='l2', random_state=None, tol=0.0001,\n",
      "     verbose=0),\n",
      "          n_jobs=1))])\n"
     ]
    }
   ],
   "source": [
    "clf_pipeline = imbPipeline([\n",
    "    ('tfidf', TfidfVectorizer()),\n",
    "    ('oversample', SMOTE(random_state=2)),\n",
    "    ('svm', OneVsRestClassifier(LinearSVC()))\n",
    "])\n",
    "\n",
    "parameters = {\n",
    "    'tfidf__encoding': ['latin-1'],\n",
    "    'tfidf__lowercase': [True],\n",
    "    'tfidf__stop_words': ['english'],\n",
    "    'tfidf__norm': [None, 'l1', 'l2'],\n",
    "    'tfidf__use_idf': [False, True],\n",
    "    'tfidf__smooth_idf': [False, True],\n",
    "    'tfidf__sublinear_tf': [False, True],\n",
    "    'tfidf__ngram_range': [(1, 1), (1, 2)],\n",
    "    \"svm__estimator__C\": [0.01, 0.1, 1],\n",
    "    \"svm__estimator__class_weight\": ['balanced', None]\n",
    "}\n",
    "\n",
    "print(\"Performing grid search...\")\n",
    "t0 = time()\n",
    "\n",
    "grid = GridSearchCV(clf_pipeline, parameters, n_jobs=-1, cv=3, scoring='accuracy')\n",
    "\n",
    "grid.fit(X_train, y_train)\n",
    "print(\"Finish training in %fs\" % (time() - t0))\n",
    "\n",
    "joblib.dump(grid, 'svm_model.pkl', protocol=-1)\n",
    "print('Saved Model')\n",
    "\n",
    "print(grid.best_score_)\n",
    "print(grid.best_params_)\n",
    "print(grid.best_estimator_)"
   ]
  },
  {
   "cell_type": "code",
   "execution_count": 15,
   "metadata": {
    "scrolled": false
   },
   "outputs": [
    {
     "name": "stdout",
     "output_type": "stream",
     "text": [
      "              precision    recall  f1-score   support\n",
      "\n",
      "     Alcohol       0.96      0.94      0.95        52\n",
      "      Casino       0.96      0.96      0.96        54\n",
      " Counterfeit       0.72      0.97      0.83        30\n",
      " Cyberlocker       0.88      0.88      0.88        25\n",
      "         Mlm       0.78      0.77      0.77        47\n",
      "      Normal       0.85      0.89      0.87       171\n",
      "       Penny       0.89      0.80      0.85        41\n",
      "      Pharma       0.91      0.96      0.94        55\n",
      "        Porn       0.87      0.86      0.86        56\n",
      "Prostitution       0.81      0.77      0.79        22\n",
      "       Smoke       1.00      0.90      0.95        51\n",
      "        Spam       0.97      0.86      0.91        36\n",
      "         Tms       0.89      0.89      0.89        19\n",
      "       Trial       0.20      0.10      0.13        10\n",
      "      Weapon       0.86      0.88      0.87        41\n",
      "\n",
      " avg / total       0.88      0.88      0.88       710\n",
      "\n"
     ]
    }
   ],
   "source": [
    "model = joblib.load('svm_model.pkl')\n",
    "\n",
    "predictions = model.predict(X_test)\n",
    "print(classification_report(y_test, predictions))"
   ]
  },
  {
   "cell_type": "markdown",
   "metadata": {},
   "source": [
    "### Model Evaluation\n",
    "\n",
    "Metrics used to evaluate a classification model include True-Positive and False-Positive Rate of the model's predictions. The following below is a confusion matrix which depicts the True-Positve and False-Positive Rate of the model's predictions.\n",
    "\n",
    "The model performs generally well on most classes except for the 'Trial' class. This is due to the small amount of samples we have for the 'Trial' class. As such, to further improve the model performance, it is best to collect more data on the 'Trial' class.\n",
    "\n",
    "<img src=\"confusion_matrix.png\">"
   ]
  },
  {
   "cell_type": "markdown",
   "metadata": {},
   "source": [
    "# Deep Learning Applications for NLP\n",
    "\n",
    "Here, I will be implementing a deep learning neural network architecture to perform classification of websites based on its text data. Similar to the machine learning pipeline shown previously, I will be preprocessing the text and splitting the data into train and test datasets.\n",
    "\n",
    "The neural network I will be building here is **LSTM** (Long-Short-Term Memory), a type of recurrent neural network. It takes into account the sequence of the inputs, by feeding the output from the previous step as input to the current step. \n",
    "\n",
    "In the neural network architecture I am building, I will also be utilizing a pre-trained word embedding model (Glove). Word embeddings are essentially vector representations of text; it is able to capture context of a word in a document, semantic similarity, and relation with other words."
   ]
  },
  {
   "cell_type": "code",
   "execution_count": 5,
   "metadata": {},
   "outputs": [],
   "source": [
    "from keras.preprocessing.text import Tokenizer\n",
    "from keras.preprocessing.sequence import pad_sequences\n",
    "from keras.utils import to_categorical\n",
    "from keras.layers import (Dense, Dropout, Embedding, Input, Flatten, Conv1D, BatchNormalization, Activation,\n",
    "                          GlobalMaxPooling1D, MaxPooling1D, LSTM, Bidirectional)\n",
    "from keras.models import Model\n",
    "from keras.initializers import Constant\n",
    "from keras.callbacks import ModelCheckpoint, ReduceLROnPlateau, LearningRateScheduler, EarlyStopping\n",
    "from keras.optimizers import Adam, Adadelta\n",
    "from keras import regularizers"
   ]
  },
  {
   "cell_type": "markdown",
   "metadata": {},
   "source": [
    "### Load Pre-trained Word Embedding (Glove)"
   ]
  },
  {
   "cell_type": "code",
   "execution_count": 2,
   "metadata": {},
   "outputs": [],
   "source": [
    "def loadGloveModel(gloveFile):\n",
    "    print(\"Loading Glove Model\")\n",
    "    f = open(gloveFile,'r')\n",
    "    model = {}\n",
    "    for line in f:\n",
    "        splitLine = line.split()\n",
    "        word = splitLine[0]\n",
    "        embedding = np.array([float(val) for val in splitLine[1:]])\n",
    "        model[word] = embedding\n",
    "    print(\"Done.\",len(model),\" words loaded!\")\n",
    "    return model"
   ]
  },
  {
   "cell_type": "code",
   "execution_count": 3,
   "metadata": {},
   "outputs": [],
   "source": [
    "glove = loadGloveModel('glove.6B.300d.txt')"
   ]
  },
  {
   "cell_type": "markdown",
   "metadata": {},
   "source": [
    "### Text Preprocessing"
   ]
  },
  {
   "cell_type": "code",
   "execution_count": 7,
   "metadata": {},
   "outputs": [],
   "source": [
    "def preprocess_text(texts, MAX_WORDS, MAX_SEQUENCE_LENGTH):\n",
    "    '''Preprocess text: Tokenize text to sequence; Pad sequence of text data\n",
    "    Returns processed text data'''\n",
    "    tokenizer = Tokenizer(num_words=MAX_WORDS)\n",
    "    tokenizer.fit_on_texts(texts)\n",
    "    sequences = tokenizer.texts_to_sequences(texts)\n",
    "\n",
    "    word_index = tokenizer.word_index\n",
    "    print('Found %s unique tokens.' % len(word_index))\n",
    "\n",
    "    data = pad_sequences(sequences, maxlen=MAX_SEQUENCE_LENGTH)\n",
    "    \n",
    "    return data, word_index"
   ]
  },
  {
   "cell_type": "markdown",
   "metadata": {},
   "source": [
    "### Train-Test-Split"
   ]
  },
  {
   "cell_type": "code",
   "execution_count": 8,
   "metadata": {},
   "outputs": [],
   "source": [
    "def split_data(data, labels, VALIDATION_SPLIT):\n",
    "    '''Splits data based on validation size and one-hot encodes labels\n",
    "    Returns: X_train, X_test, Y_train, Y_test\n",
    "    '''\n",
    "    \n",
    "    X_train, X_test, Y_train, Y_test = train_test_split(data, labels, test_size=VALIDATION_SPLIT, \n",
    "                                                        stratify=labels, shuffle=True, random_state=42)\n",
    "\n",
    "    Y_train = to_categorical(np.asarray(Y_train))\n",
    "    Y_test = to_categorical(np.asarray(Y_test))\n",
    "    \n",
    "    return X_train, X_test, Y_train, Y_test"
   ]
  },
  {
   "cell_type": "code",
   "execution_count": 9,
   "metadata": {},
   "outputs": [],
   "source": [
    "df = pd.read_csv('dataset.csv')\n",
    "texts = df['text']\n",
    "labels = df['class'].factorize()[0]"
   ]
  },
  {
   "cell_type": "markdown",
   "metadata": {},
   "source": [
    "### Keras Embedding"
   ]
  },
  {
   "cell_type": "code",
   "execution_count": 10,
   "metadata": {},
   "outputs": [],
   "source": [
    "def get_embedding_layer(glove, word_index, EMBEDDING_DIM):\n",
    "    '''Prepares embedding matrix using pre-trained word vector (GLOVE) and \n",
    "    builds an Embedding layer using the matrix. Returns Embedding Layer'''\n",
    "    \n",
    "    # prepare embedding matrix\n",
    "    num_words = min(MAX_WORDS, len(word_index)) + 1\n",
    "    embedding_matrix = np.zeros((num_words, EMBEDDING_DIM))\n",
    "    for word, i in word_index.items():\n",
    "        if i > MAX_WORDS:\n",
    "            continue\n",
    "        embedding_vector = glove.get(word)\n",
    "        if embedding_vector is not None:\n",
    "            # words not found in embedding index will be all-zeros.\n",
    "            embedding_matrix[i] = embedding_vector\n",
    "\n",
    "    # load pre-trained word embeddings into an Embedding layer\n",
    "    # note that we set trainable = False so as to keep the embeddings fixed\n",
    "    embedding_layer = Embedding(num_words,\n",
    "                                EMBEDDING_DIM,\n",
    "                                embeddings_initializer=Constant(embedding_matrix),\n",
    "                                input_length=MAX_SEQUENCE_LENGTH,\n",
    "                                trainable=False)\n",
    "    \n",
    "    return embedding_layer"
   ]
  },
  {
   "cell_type": "markdown",
   "metadata": {},
   "source": [
    "### LSTM"
   ]
  },
  {
   "cell_type": "code",
   "execution_count": 11,
   "metadata": {},
   "outputs": [],
   "source": [
    "def lstm_model():\n",
    "\n",
    "    sequence_input = Input(shape=(MAX_SEQUENCE_LENGTH,), dtype='int32')\n",
    "    embedded_sequences = embedding_layer(sequence_input)\n",
    "    l_lstm = Bidirectional(LSTM(100))(embedded_sequences)\n",
    "    x = Dense(256, activation='relu')(l_lstm)\n",
    "    x = Dense(128, activation='relu')(x)\n",
    "    preds = Dense(15, activation='softmax')(x)\n",
    "\n",
    "    model = Model(sequence_input, preds)\n",
    "    \n",
    "    return model"
   ]
  },
  {
   "cell_type": "code",
   "execution_count": 12,
   "metadata": {},
   "outputs": [],
   "source": [
    "MAX_WORDS = 80000\n",
    "MAX_SEQUENCE_LENGTH = 10000\n",
    "VALIDATION_SPLIT = 0.25\n",
    "EMBEDDING_DIM = 300\n",
    "filepath = 'model_data/glove_lstm_model_weights_v1.hdf5'\n",
    "\n",
    "data, word_index = preprocess_text(texts, MAX_WORDS, MAX_SEQUENCE_LENGTH)\n",
    "X_train, X_test, Y_train, Y_test = split_data(data, VALIDATION_SPLIT)\n",
    "embedding_layer = get_embedding_layer(glove, word_index, EMBEDDING_DIM)\n",
    "model = lstm_model()\n",
    "\n",
    "checkpoint = ModelCheckpoint(filepath, monitor='val_acc', verbose=1, save_best_only=True, mode='max')\n",
    "optimizer = Adam(lr=0.001)\n",
    "steplr = ReduceLROnPlateau(min_lr=0.0001, patience=5, factor=0.2)\n",
    "model.compile(loss='categorical_crossentropy',\n",
    "                  optimizer=optimizer,\n",
    "                  metrics=['acc'])\n",
    "history = model.fit(X_train, Y_train, batch_size=6, epochs=10, validation_data=(X_test, Y_test), \n",
    "                    callbacks=[checkpoint, steplr])"
   ]
  }
 ],
 "metadata": {
  "kernelspec": {
   "display_name": "Python 3",
   "language": "python",
   "name": "python3"
  },
  "language_info": {
   "codemirror_mode": {
    "name": "ipython",
    "version": 3
   },
   "file_extension": ".py",
   "mimetype": "text/x-python",
   "name": "python",
   "nbconvert_exporter": "python",
   "pygments_lexer": "ipython3",
   "version": "3.6.6"
  }
 },
 "nbformat": 4,
 "nbformat_minor": 2
}
